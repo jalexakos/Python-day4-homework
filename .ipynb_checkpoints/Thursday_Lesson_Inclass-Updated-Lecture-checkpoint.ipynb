{
 "cells": [
  {
   "cell_type": "markdown",
   "metadata": {},
   "source": [
    "# Object-Oriented-Programming (OOP)"
   ]
  },
  {
   "cell_type": "markdown",
   "metadata": {},
   "source": [
    "## Tasks Today:\n",
    "\n",
    "   \n",
    "\n",
    "1) <b>Creating a Class (Initializing/Declaring)</b> <br>\n",
    "2) <b>Using a Class (Instantiating)</b> <br>\n",
    " &nbsp;&nbsp;&nbsp;&nbsp; a) Creating One Instance <br>\n",
    " &nbsp;&nbsp;&nbsp;&nbsp; b) Creating Multiple Instances <br>\n",
    " &nbsp;&nbsp;&nbsp;&nbsp; c) In-Class Exercise #1 - Create a Class 'Car' and instantiate three different makes of cars <br>\n",
    "3) <b>The \\__init\\__() Method</b> <br>\n",
    " &nbsp;&nbsp;&nbsp;&nbsp; a) The 'self' Attribute <br>\n",
    "4) <b>Class Attributes</b> <br>\n",
    " &nbsp;&nbsp;&nbsp;&nbsp; a) Initializing Attributes <br>\n",
    " &nbsp;&nbsp;&nbsp;&nbsp; b) Setting an Attribute Outside of the \\__init\\__() Method <br>\n",
    " &nbsp;&nbsp;&nbsp;&nbsp; c) Setting Defaults for Attributes <br>\n",
    " &nbsp;&nbsp;&nbsp;&nbsp; d) Accessing Class Attributes <br>\n",
    " &nbsp;&nbsp;&nbsp;&nbsp; e) Changing Class Attributes <br>\n",
    " &nbsp;&nbsp;&nbsp;&nbsp; f) In-Class Exercise #2 - Add a color and wheels attribute to your 'Car' class <br>\n",
    "5) <b>Class Methods</b> <br>\n",
    " &nbsp;&nbsp;&nbsp;&nbsp; a) Creating <br>\n",
    " &nbsp;&nbsp;&nbsp;&nbsp; b) Calling <br>\n",
    " &nbsp;&nbsp;&nbsp;&nbsp; c) Modifying an Attribute's Value Through a Method <br>\n",
    " &nbsp;&nbsp;&nbsp;&nbsp; d) Incrementing an Attribute's Value Through a Method <br>\n",
    " &nbsp;&nbsp;&nbsp;&nbsp; e) In-Class Exercise #3 - Add a method that prints the cars color and wheel number, then call them <br>\n",
    "6) <b>Inheritance</b> <br>\n",
    " &nbsp;&nbsp;&nbsp;&nbsp; a) Syntax for Inheriting from a Parent Class <br>\n",
    " &nbsp;&nbsp;&nbsp;&nbsp; b) The \\__init\\__() Method for a Child Class (super()) <br>\n",
    " &nbsp;&nbsp;&nbsp;&nbsp; c) Defining Attributes and Methods for the Child Class <br>\n",
    " &nbsp;&nbsp;&nbsp;&nbsp; d) Method Overriding <br>\n",
    " &nbsp;&nbsp;&nbsp;&nbsp; e) In-Class Exercise #4 - Create a class 'Ford' that inherits from 'Car' class and initialize it as a Blue Ford Explorer with 4 wheels using the super() method <br>\n",
    "7) <b>Classes as Attributes</b> <br>\n",
    "8) <b>Exercises</b> <br>\n",
    " &nbsp;&nbsp;&nbsp;&nbsp; a) Exercise #1 - Turn the shopping cart program from yesterday into an object-oriented program <br>"
   ]
  },
  {
   "cell_type": "code",
   "execution_count": 1,
   "metadata": {},
   "outputs": [
    {
     "name": "stdout",
     "output_type": "stream",
     "text": [
      "Here is your cart...\n",
      "bread\n",
      "burgers\n"
     ]
    }
   ],
   "source": [
    "from IPython.display import clear_output\n",
    "\n",
    "cart = []\n",
    "\n",
    "# Add to cart function\n",
    "def addItem(item):\n",
    "    clear_output()\n",
    "    cart.append(item)\n",
    "    \n",
    "# Remove From Cart\n",
    "def removeItem(item):\n",
    "    clear_output()\n",
    "    cart.remove(item)\n",
    "    \n",
    "#Show Cart Function\n",
    "def showCart():\n",
    "    clear_output()\n",
    "    print(\"Here is your cart...\")\n",
    "    for item in cart:\n",
    "        print(item)\n",
    "        \n",
    "# Clear Cart\n",
    "def clearCart():\n",
    "    clear_output()\n",
    "    print(\"Your cart is now empty...\")\n",
    "    cart.clear()\n",
    "    \n",
    "def shoppingCart():\n",
    "    while True:\n",
    "        response = input(\"You can: quit / add / remove / show / or clear\")\n",
    "        \n",
    "        if response.lower() == \"quit\":\n",
    "            print(\"Thanks for shopping! Here's your cart:\")\n",
    "            showCart()\n",
    "            break\n",
    "        elif response.lower() == \"add\":\n",
    "            item = input(\"What would you like to add?\")\n",
    "            addItem(item)\n",
    "        elif response.lower() == \"remove\":\n",
    "            showCart()\n",
    "            item = input(\"What item do you want to remove?\")\n",
    "            removeItem(item)\n",
    "        elif response.lower() == \"show\":\n",
    "            showCart()\n",
    "        elif response.lower() == \"clear\":\n",
    "            clearCart()\n",
    "        else:\n",
    "            print(\"Sorry not a valid response - Please choose add/remove/clear/show or quit\")\n",
    "\n",
    "shoppingCart()"
   ]
  },
  {
   "cell_type": "code",
   "execution_count": null,
   "metadata": {},
   "outputs": [],
   "source": [
    "# Circumfrance of a cirle\n"
   ]
  },
  {
   "cell_type": "markdown",
   "metadata": {},
   "source": [
    "## Creating a Class (Initializing/Declaring)\n",
    "<p>When creating a class, function, or even a variable you are initializing that object. Initializing and Declaring occur at the same time in Python, whereas in lower level languages you have to declare an object before initializing it. This is the first step in the process of using a class.</p>"
   ]
  },
  {
   "cell_type": "code",
   "execution_count": 2,
   "metadata": {},
   "outputs": [],
   "source": [
    "class Car():\n",
    "    wheels = 4\n",
    "    color = \"Blue\""
   ]
  },
  {
   "cell_type": "markdown",
   "metadata": {},
   "source": [
    "## Using a Class (Instantiating)\n",
    "<p>The process of creating a class is called <i>Instantiating</i>. Each time you create a variable of that type of class, it is referred to as an <i>Instance</i> of that class. This is the second step in the process of using a class.</p>"
   ]
  },
  {
   "cell_type": "markdown",
   "metadata": {},
   "source": [
    "##### Creating One Instance"
   ]
  },
  {
   "cell_type": "code",
   "execution_count": 3,
   "metadata": {},
   "outputs": [
    {
     "data": {
      "text/plain": [
       "4"
      ]
     },
     "execution_count": 3,
     "metadata": {},
     "output_type": "execute_result"
    }
   ],
   "source": [
    "ford = Car()\n",
    "\n",
    "ford.wheels"
   ]
  },
  {
   "cell_type": "markdown",
   "metadata": {},
   "source": [
    "##### Creating Multiple Instances"
   ]
  },
  {
   "cell_type": "code",
   "execution_count": 4,
   "metadata": {},
   "outputs": [
    {
     "data": {
      "text/plain": [
       "'Blue'"
      ]
     },
     "execution_count": 4,
     "metadata": {},
     "output_type": "execute_result"
    }
   ],
   "source": [
    "chevy = Car()\n",
    "honda = Car()\n",
    "porsche = Car()\n",
    "\n",
    "porsche.color"
   ]
  },
  {
   "cell_type": "markdown",
   "metadata": {},
   "source": [
    "##### In-Class Exercise #1 - Create a Class 'Car' and Instantiate three different makes of cars"
   ]
  },
  {
   "cell_type": "code",
   "execution_count": 7,
   "metadata": {},
   "outputs": [
    {
     "name": "stdout",
     "output_type": "stream",
     "text": [
      "True\n",
      "4\n",
      "black\n"
     ]
    }
   ],
   "source": [
    "# Add doors, a new color, wheels, and a sunroof\n",
    "\n",
    "# Output: number of doors: 4, Color: \"red\", Wheels: 4, sunroof: True\n",
    "\n",
    "class Car():\n",
    "    doors = 4\n",
    "    color = \"black\"\n",
    "    wheels = 4\n",
    "    sunroof = True\n",
    "\n",
    "Subaru = Car()\n",
    "Volvo = Car()\n",
    "Range_Rover = Car()\n",
    "\n",
    "print(Subaru.sunroof)\n",
    "print(Volvo.wheels)\n",
    "print(Range_Rover.color)"
   ]
  },
  {
   "cell_type": "markdown",
   "metadata": {},
   "source": [
    "## The \\__init\\__() Method <br>\n",
    "<p>This method is used in almost every created class, and called only once upon the creation of the class instance. This method will initialize all variables needed for the object.</p>"
   ]
  },
  {
   "cell_type": "code",
   "execution_count": 10,
   "metadata": {},
   "outputs": [
    {
     "name": "stdout",
     "output_type": "stream",
     "text": [
      "4\n"
     ]
    }
   ],
   "source": [
    "class Toy():\n",
    "    kind = \"Car\"\n",
    "    \n",
    "    def __init__(self,rooftop,horn,wheels):\n",
    "        self.rooftop = rooftop\n",
    "        self.horn = horn\n",
    "        self.wheels = wheels\n",
    "\n",
    "hotwheels_car = Toy(1,1,4)\n",
    "\n",
    "print(hotwheels_car.wheels)"
   ]
  },
  {
   "cell_type": "markdown",
   "metadata": {},
   "source": [
    "##### The 'self' Attribute <br>\n",
    "<p>This attribute is required to keep track of specific instance's attributes. Without the self attribute, the program would not know how to reference or keep track of an instance's attributes.</p>"
   ]
  },
  {
   "cell_type": "code",
   "execution_count": null,
   "metadata": {},
   "outputs": [],
   "source": [
    "# see above"
   ]
  },
  {
   "cell_type": "markdown",
   "metadata": {},
   "source": [
    "## Class Attributes <br>\n",
    "<p>While variables are inside of a class, they are referred to as attributes and not variables. When someone says 'attribute' you know they're speaking about a class. Attributes can be initialized through the init method, or outside of it.</p>"
   ]
  },
  {
   "cell_type": "markdown",
   "metadata": {},
   "source": [
    "##### Initializing Attributes"
   ]
  },
  {
   "cell_type": "code",
   "execution_count": 11,
   "metadata": {},
   "outputs": [],
   "source": [
    "# see above\n",
    "\n",
    "tonka_truck = Toy(2,1,4) # 2 rooftops, 1 horn, 4 wheels"
   ]
  },
  {
   "cell_type": "markdown",
   "metadata": {},
   "source": [
    "##### Accessing Class Attributes"
   ]
  },
  {
   "cell_type": "code",
   "execution_count": 18,
   "metadata": {
    "scrolled": true
   },
   "outputs": [
    {
     "name": "stdout",
     "output_type": "stream",
     "text": [
      "2\n"
     ]
    }
   ],
   "source": [
    "# See Above\n",
    "print(tonka_truck.rooftop)"
   ]
  },
  {
   "cell_type": "markdown",
   "metadata": {},
   "source": [
    "##### Setting Defaults for Attributes"
   ]
  },
  {
   "cell_type": "code",
   "execution_count": 20,
   "metadata": {},
   "outputs": [
    {
     "name": "stdout",
     "output_type": "stream",
     "text": [
      "How much do you weigh?200\n",
      "True\n"
     ]
    }
   ],
   "source": [
    "class Human():\n",
    "    \n",
    "    def __init__(self,walking,height,weight,talk = True, eyes = \"brown\"):\n",
    "        self.walking = walking\n",
    "        self.height = height\n",
    "        self.weight = weight\n",
    "        self.talk = talk\n",
    "        self.eyes = eyes\n",
    "\n",
    "weight = input(\"How much do you weigh?\")\n",
    "\n",
    "joel = Human(True, \"6ft 1in\",weight)\n",
    "print(joel.talk)"
   ]
  },
  {
   "cell_type": "markdown",
   "metadata": {},
   "source": [
    "##### Changing Class Attributes <br>\n",
    "<p>Keep in mind there are global class attributes and then there are attributes only available to each class instance which won't effect other classes.</p>"
   ]
  },
  {
   "cell_type": "code",
   "execution_count": 21,
   "metadata": {},
   "outputs": [
    {
     "name": "stdout",
     "output_type": "stream",
     "text": [
      "Car\n",
      "After the change:  Truck\n"
     ]
    }
   ],
   "source": [
    "print(tonka_truck.kind)\n",
    "tonka_truck.kind = \"Truck\"\n",
    "print(\"After the change: \", tonka_truck.kind)"
   ]
  },
  {
   "cell_type": "code",
   "execution_count": 22,
   "metadata": {},
   "outputs": [
    {
     "name": "stdout",
     "output_type": "stream",
     "text": [
      "200\n",
      "After the change: 210lb\n"
     ]
    }
   ],
   "source": [
    "print(joel.weight)\n",
    "joel.weight = \"210lb\"\n",
    "print(\"After the change:\", joel.weight)"
   ]
  },
  {
   "cell_type": "markdown",
   "metadata": {},
   "source": [
    "##### In-Class Exercise #2 - Add a doors and seats attribute to your 'Car' class then print out two different instances with different doors and seats"
   ]
  },
  {
   "cell_type": "code",
   "execution_count": 24,
   "metadata": {},
   "outputs": [
    {
     "name": "stdout",
     "output_type": "stream",
     "text": [
      "The lambo has 2 doors and 2 seats.\n",
      "The ford has 4 doors and 5 seats.\n"
     ]
    }
   ],
   "source": [
    "class Car():\n",
    "    color = \"black\"\n",
    "    wheels = 4\n",
    "    sunroof = True\n",
    "    \n",
    "    def __init__(self,doors,seats):\n",
    "        self.doors = doors\n",
    "        self.seats = seats\n",
    "\n",
    "lambo = Car(2,2)\n",
    "ford = Car(4,5)\n",
    "\n",
    "print(f\"The lambo has {lambo.doors} doors and {lambo.seats} seats.\")\n",
    "print(f\"The ford has {ford.doors} doors and {ford.seats} seats.\")"
   ]
  },
  {
   "cell_type": "markdown",
   "metadata": {},
   "source": [
    "## Class Methods <br>\n",
    "<p>While inside of a class, functions are referred to as 'methods'. If you hear someone mention methods, they're speaking about classes. Methods are essentially functions, but only callable on the instances of a class.</p>"
   ]
  },
  {
   "cell_type": "markdown",
   "metadata": {},
   "source": [
    "##### Creating"
   ]
  },
  {
   "cell_type": "code",
   "execution_count": 28,
   "metadata": {},
   "outputs": [
    {
     "name": "stdout",
     "output_type": "stream",
     "text": [
      "What do you want to do - Add/Show or Quit?bread\n",
      "What do you want to do - Add/Show or Quit?add\n",
      "What would you like to add? bread\n",
      "What do you want to do - Add/Show or Quit?add\n",
      "What would you like to add? juice\n",
      "What do you want to do - Add/Show or Quit?quit\n",
      "Here is your bag...\n",
      "You have items in your bag!\n",
      "bread\n",
      "juice\n"
     ]
    }
   ],
   "source": [
    "class ShoppingBag():\n",
    "    def __init__(self,handles,capacity,items):\n",
    "        self.handles = handles\n",
    "        self.capacity = capacity\n",
    "        self.items = items\n",
    "        \n",
    "    \"\"\"\n",
    "        ShoppingBag will require 3 positional arguments:\n",
    "        handles: which expects to be an integer\n",
    "        capacity: which expects to be an integer\n",
    "        items: which is expected to be a list - List CAN be empty\n",
    "    \"\"\"\n",
    "\n",
    "    # Method to show ShoppingBag - include self so it knows where to pull info from\n",
    "    def showShoppingBag(self):\n",
    "        print(\"You have items in your bag!\")\n",
    "        for item in self.items:\n",
    "            print(item)\n",
    "    # Method to show the capacity of the bag\n",
    "    def showCapacity(self):\n",
    "        print(f\"Your capacity is {self.capacity}.\")\n",
    "\n",
    "    # Method to add to the ShoppingBag\n",
    "    def addToShoppingBag(self):\n",
    "        product = input(\"What would you like to add? \")\n",
    "        self.items.append(product)\n",
    "\n",
    "    # Method to change current capacity\n",
    "    def changeBagCapacity(self,capacity):\n",
    "        \"\"\"\n",
    "            changeBagCapacity assumes capacity will be integer\n",
    "        \"\"\"\n",
    "        self.capacity = capacity\n",
    "\n",
    "    # Method to auto increase capacity\n",
    "    def autoIncreaseCapacity(self):\n",
    "        if self.capacity == isinstance(self.capacity, str):\n",
    "            print(\"Hey can't do that here buddy...\")\n",
    "        else:\n",
    "            self.capacity += 10\n",
    "                \n",
    "def run():\n",
    "    whole_food_bag = ShoppingBag(2,10,[])\n",
    "    while True:\n",
    "        response = input(\"What do you want to do - Add/Show or Quit?\")\n",
    "        if response.lower() == \"add\":\n",
    "            whole_food_bag.addToShoppingBag()\n",
    "        elif response.lower() == \"show\":\n",
    "            whole_food_bag.showShoppingBag()\n",
    "        if response.lower() == \"quit\":\n",
    "            print(\"Here is your bag...\")\n",
    "            whole_food_bag.showShoppingBag()\n",
    "            break\n",
    "\n",
    "run()"
   ]
  },
  {
   "cell_type": "markdown",
   "metadata": {},
   "source": [
    "##### Calling"
   ]
  },
  {
   "cell_type": "code",
   "execution_count": null,
   "metadata": {},
   "outputs": [],
   "source": [
    "# See Above"
   ]
  },
  {
   "cell_type": "markdown",
   "metadata": {},
   "source": [
    "##### Modifying an Attribute's Value Through a Method"
   ]
  },
  {
   "cell_type": "code",
   "execution_count": 30,
   "metadata": {},
   "outputs": [
    {
     "name": "stdout",
     "output_type": "stream",
     "text": [
      "Your capacity is 10.\n",
      "Capacity AFTER the change...\n",
      "Your capacity is 20.\n"
     ]
    }
   ],
   "source": [
    "whole_food_bag = ShoppingBag(2,10,[])\n",
    "whole_food_bag.showCapacity()\n",
    "print(\"Capacity AFTER the change...\")\n",
    "whole_food_bag.changeBagCapacity(20)\n",
    "whole_food_bag.showCapacity()"
   ]
  },
  {
   "cell_type": "markdown",
   "metadata": {},
   "source": [
    "##### Incrementing an Attribute's Value Through a Method"
   ]
  },
  {
   "cell_type": "code",
   "execution_count": 31,
   "metadata": {},
   "outputs": [
    {
     "name": "stdout",
     "output_type": "stream",
     "text": [
      "Your capacity is 20.\n",
      "Capacity AFTER the increase...\n",
      "Your capacity is 30.\n"
     ]
    }
   ],
   "source": [
    "whole_food_bag.showCapacity()\n",
    "print(\"Capacity AFTER the increase...\")\n",
    "whole_food_bag.autoIncreaseCapacity()\n",
    "whole_food_bag.showCapacity()"
   ]
  },
  {
   "cell_type": "markdown",
   "metadata": {},
   "source": [
    "##### In-Class Exercise #3 - Add a method that takes in three parameters of year, doors and seats and prints out a formatted print statement with make, model, year, seats, and doors"
   ]
  },
  {
   "cell_type": "code",
   "execution_count": 46,
   "metadata": {},
   "outputs": [
    {
     "name": "stdout",
     "output_type": "stream",
     "text": [
      "This car is from 2019 and is a Ford Explorer and has 4 doors and 5 seats.\n",
      "This car is from 2019 and is a Ford Explorer and has 4 doors and 5 seats.\n"
     ]
    },
    {
     "data": {
      "text/plain": [
       "'5'"
      ]
     },
     "execution_count": 46,
     "metadata": {},
     "output_type": "execute_result"
    }
   ],
   "source": [
    "# Create class with 2 paramters inside of the __init__ which are make and model\n",
    "\n",
    "# Inside of the Car class create a method that has 4 parameter in total (self,year,door,seats)\n",
    "\n",
    "# Output: This car is from 2019 and is a Ford Expolorer and has 4 doors and 5 seats\n",
    "\n",
    "class Car():    \n",
    "    def __init__(self,make,model):\n",
    "        self.make = make\n",
    "        self.model = model\n",
    "        \n",
    "    def addDetails(self,year,doors,seats):\n",
    "        \"\"\"\n",
    "            addDetails assumes all values are integers\n",
    "        \"\"\"\n",
    "        if seats == isinstance(seats,str):\n",
    "            print(\"We can only take numbers my friend\")\n",
    "        else:\n",
    "            self.seats = seats\n",
    "            print(f\"This car is from {year} and is a {self.make} {self.model} and has {doors} doors and {seats} seats.\")\n",
    "\n",
    "ford_Exp = Car(\"Ford\",\"Explorer\")\n",
    "\n",
    "ford_Exp.addDetails(2019,4,5)\n",
    "ford_Exp.addDetails(2019,4,\"5\")\n",
    "ford_Exp.seats"
   ]
  },
  {
   "cell_type": "markdown",
   "metadata": {},
   "source": [
    "## Inheritance <br>\n",
    "<p>You can create a child-parent relationship between two classes by using inheritance. What this allows you to do is have overriding methods, but also inherit traits from the parent class. Think of it as an actual parent and child, the child will inherit the parent's genes, as will the classes in OOP</p>"
   ]
  },
  {
   "cell_type": "markdown",
   "metadata": {},
   "source": [
    "##### Syntax for Inheriting from a Parent Class"
   ]
  },
  {
   "cell_type": "code",
   "execution_count": 56,
   "metadata": {},
   "outputs": [
    {
     "name": "stdout",
     "output_type": "stream",
     "text": [
      "Some Generic Sound\n",
      "Purr\n"
     ]
    }
   ],
   "source": [
    "class Animal():\n",
    "    acceleration = 9.8\n",
    "    \n",
    "    def __init__(self,name,species,legs = 4):\n",
    "        self.name = name\n",
    "        self.species = species\n",
    "        self.legs = legs\n",
    "        \n",
    "    def makeSound(self):\n",
    "        print(\"Some Generic Sound\")\n",
    "\n",
    "# Inheritance without overriding\n",
    "class Dog(Animal):\n",
    "    speed = 15\n",
    "    \n",
    "    def printInfo(self):\n",
    "        print(f\"This Dog is {self.name}\")\n",
    "    \n",
    "# Inheritance WITH override    \n",
    "class Cat(Animal):\n",
    "    eye_color = \"brown\"\n",
    "    \n",
    "    def __init__(self,name,species,color,legs=4):\n",
    "        Animal.__init__(self,name,species,legs)\n",
    "        self.color = color\n",
    "        \n",
    "    # Method Overriding\n",
    "    def makeSound(self):\n",
    "        print(\"Purr\")\n",
    "        \n",
    "# help(Dog)\n",
    "\n",
    "# help(Cat)\n",
    "\n",
    "generic_animal = Animal(\"Generic\",\"Random_Species\")\n",
    "\n",
    "generic_animal.makeSound()\n",
    "\n",
    "garfield = Cat(\"Garfield\",\"Cat\",\"orange\")\n",
    "garfield.makeSound()"
   ]
  },
  {
   "cell_type": "markdown",
   "metadata": {},
   "source": [
    "##### The \\__init\\__() Method for a Child Class - super()"
   ]
  },
  {
   "cell_type": "code",
   "execution_count": 59,
   "metadata": {
    "scrolled": true
   },
   "outputs": [
    {
     "name": "stdout",
     "output_type": "stream",
     "text": [
      "This Bird is Red\n"
     ]
    }
   ],
   "source": [
    "class Bird(Animal):\n",
    "    speed = \"25mph\"\n",
    "    \n",
    "    def __init__(self,name,species,color,legs = 4):\n",
    "        super().__init__(name,species,legs) # The only time we can exclude self out of the parameter list\n",
    "        self.color = color\n",
    "        \n",
    "    def printInfo(self):\n",
    "        print(f\"This Bird is {self.color}\")\n",
    "# help(Bird)\n",
    "polly = Bird(\"polly\",\"Bird\",\"Red\")\n",
    "polly.printInfo()"
   ]
  },
  {
   "cell_type": "markdown",
   "metadata": {},
   "source": [
    "##### Defining Attributes and Methods for the Child Class"
   ]
  },
  {
   "cell_type": "code",
   "execution_count": null,
   "metadata": {},
   "outputs": [],
   "source": [
    "# See Above"
   ]
  },
  {
   "cell_type": "markdown",
   "metadata": {},
   "source": [
    "##### Method Overriding"
   ]
  },
  {
   "cell_type": "code",
   "execution_count": null,
   "metadata": {},
   "outputs": [],
   "source": [
    "# See Above"
   ]
  },
  {
   "cell_type": "markdown",
   "metadata": {},
   "source": [
    "## Classes as Attributes <br>\n",
    "<p>Classes can also be used as attributes within another class. This is useful in situations where you need to keep variables locally stored, instead of globally stored.</p>"
   ]
  },
  {
   "cell_type": "code",
   "execution_count": 63,
   "metadata": {},
   "outputs": [
    {
     "name": "stdout",
     "output_type": "stream",
     "text": [
      "2020 Tesla Model X 7.8 20\n"
     ]
    }
   ],
   "source": [
    "class Battery():\n",
    "    volts = 7.8\n",
    "    \n",
    "    def __init__(self,cells):\n",
    "        self.cells = cells\n",
    "        \n",
    "class Car():\n",
    "    def __init__(self,year,make,model,battery):\n",
    "        self.year = year\n",
    "        self.make = make\n",
    "        self.model = model\n",
    "        self.battery = battery\n",
    "        \n",
    "    def printInfo(self):\n",
    "        print(self.year,self.make,self.model,self.battery.volts, self.battery.cells)\n",
    "        \n",
    "batt = Battery(20)\n",
    "\n",
    "tesla = Car(2020,\"Tesla\",\"Model X\",batt)\n",
    "\n",
    "tesla.printInfo()"
   ]
  },
  {
   "cell_type": "markdown",
   "metadata": {},
   "source": [
    "# Exercises"
   ]
  },
  {
   "cell_type": "markdown",
   "metadata": {},
   "source": [
    "### Exercise 1 - Turn the shopping cart program from yesterday into an object-oriented program\n",
    "\n",
    "The comments in the cell below are there as a guide for thinking about the problem. However, if you feel a different way is best for you and your own thought process, please do what feels best for you by all means."
   ]
  },
  {
   "cell_type": "code",
   "execution_count": 11,
   "metadata": {},
   "outputs": [
    {
     "name": "stdout",
     "output_type": "stream",
     "text": [
      "What would you like to do: add, remove, show, check space, or quit? quit\n",
      "Here's your cart! Have a wonderful day.\n",
      "['add', 'add', 'add', 'add', 'add', 'add', 'add', 'add', 'add', 'ad', 'add', 'add', 'add', 'add', 'add', 'add', 'add', 'add']\n"
     ]
    }
   ],
   "source": [
    "# Create a class called cart that retains items and has methods to add, remove, and show\n",
    "\n",
    "# BRIAN - Sorry that there's a lot more here than asked for, I just wasn't sure I got the concept so\n",
    "# I wanted to try out a few different things. Sorry if it's a pain to review!!!\n",
    "\n",
    "from IPython.display import clear_output\n",
    "\n",
    "class Cart():\n",
    "    def __init__(self,space,items,wheels = 4):\n",
    "        self.space = space\n",
    "        self.items = items\n",
    "        self.wheels = wheels\n",
    "    \n",
    "    \"\"\"\n",
    "        Cart will require 2 positional arguments:\n",
    "        space: which expects to be an integer\n",
    "        items: which is expected to be a list, which CAN be empty\n",
    "    \"\"\"\n",
    "\n",
    "    def showShoppingCart(self):\n",
    "        print(\"Here's what you've got so far:\")\n",
    "        print(self.items)\n",
    "    \n",
    "    def newCart(self):\n",
    "        new_size = input(\"How many more items would you like to have space for? \")\n",
    "        if int(new_size) < 10:\n",
    "            self.space+=10\n",
    "            new_space = self.space - len(self.items)\n",
    "            print(f\"Here's your new cart! Now you have space for {new_space} more items.\")\n",
    "        else:\n",
    "            self.space+=20\n",
    "            new_space = self.space - len(self.items)\n",
    "            print(f\"You want a lot, huh? Well here's our biggest cart! Now you have room for {new_space} more items!\")\n",
    "    \n",
    "    def showSpace(self):\n",
    "        print(\"Here's how much space you have left: \")\n",
    "        space_left = self.space - len(self.items)\n",
    "        if space_left < 3:\n",
    "            print(f\"Your cart's pretty full! You only have space for {space_left} more items...\")\n",
    "            new_cart_check = input(\"Would you like a bigger cart? Y/N: \")\n",
    "            if new_cart_check.lower() == \"y\":\n",
    "                self.newCart()\n",
    "            elif new_cart_check.lower() == \"n\":\n",
    "                print(\"Just thought we'd check!\")\n",
    "        else:\n",
    "            print(f\"You have space for {space_left} more items!\")\n",
    "    \n",
    "    def addItem(self):\n",
    "        purchase = input(\"What do you want to add? \")\n",
    "        self.items.append(purchase.lower())\n",
    "        print(f\"{purchase.title()} has been added to your cart!\")\n",
    "    \n",
    "    def delItem(self):\n",
    "        self.showShoppingCart()\n",
    "        forsaken = input(\"What do you want to remove from the cart? \")\n",
    "        self.items.remove(forsaken.lower())\n",
    "        print(f\"{forsaken.title()} has been removed from the cart.\")\n",
    "    \n",
    "    def quitting(self):\n",
    "        print(self.items)\n",
    "\n",
    "\n",
    "def goShopping():\n",
    "    stop_and_shop_cart = Cart(20,[])\n",
    "    print(\"Welcome to Stop & Shop!\")\n",
    "    clear_output(wait = True)\n",
    "    while True:\n",
    "        response = input(\"What would you like to do: add, remove, show, check space, or quit? \")\n",
    "        if response.lower() == \"add\":\n",
    "            stop_and_shop_cart.addItem()\n",
    "            clear_output(wait = True)\n",
    "        elif response.lower() == \"remove\":\n",
    "            stop_and_shop_cart.delItem()\n",
    "            clear_output(wait = True)\n",
    "        elif response.lower() == \"show\":\n",
    "            stop_and_shop_cart.showShoppingCart()\n",
    "            clear_output(wait = True)\n",
    "        elif response.lower() == \"check space\":\n",
    "            stop_and_shop_cart.showSpace()\n",
    "            clear_output(wait = True)\n",
    "        elif response.lower() == \"quit\":\n",
    "            print(\"Here's your cart! Have a wonderful day.\")\n",
    "            stop_and_shop_cart.quitting()\n",
    "            break\n",
    "        else:\n",
    "            print(\"Sorry, try again!\")\n",
    "            clear_output(wait = True)\n",
    "    \n",
    "\n",
    "goShopping()"
   ]
  },
  {
   "cell_type": "markdown",
   "metadata": {},
   "source": [
    "### Exercise 2 - Create a class 'Ford' that inherits from 'Car' class and initialize it as a Blue Ford Explorer with 4 wheels using the super() method, add a method to car which prints 'this is a car' and create an overriding method in class Ford that prints the information on the car"
   ]
  },
  {
   "cell_type": "code",
   "execution_count": 6,
   "metadata": {},
   "outputs": [
    {
     "name": "stdout",
     "output_type": "stream",
     "text": [
      "This is a blue Ford Explorer with 4 wheels.\n"
     ]
    }
   ],
   "source": [
    "# Create Parent Class called Car - That will be inherited by child Class called Ford\n",
    "# Add a method to the Car class that prints \"This is a car\"\n",
    "# Inside of the Child Class initialize the the inherited info using super()\n",
    "# Override the above method with the information of the Ford Car\n",
    "\n",
    "class Car():\n",
    "    def __init__(self,make,model,color,wheels = 4):\n",
    "        Car.make = make\n",
    "        Car.model = model\n",
    "        Car.color = color\n",
    "        Car.wheels = wheels\n",
    "    \n",
    "    def carInfo(self):\n",
    "        print(\"This is a car\")\n",
    "\n",
    "class Ford(Car):\n",
    "    def __init__(self,make,model,color,sunroof,wheels = 4):\n",
    "        super().__init__(make,model,color,wheels)\n",
    "        self.sunroof = sunroof # I just added this sunroof attribute for more practice.\n",
    "    \n",
    "    def carInfo(self):\n",
    "        print(f\"This is a {self.color} {self.make} {self.model} with {self.wheels} wheels.\")\n",
    "        \n",
    "ford_x = Ford(\"Ford\",\"Explorer\",\"blue\",True)\n",
    "\n",
    "ford_x.carInfo()"
   ]
  }
 ],
 "metadata": {
  "kernelspec": {
   "display_name": "Python 3",
   "language": "python",
   "name": "python3"
  },
  "language_info": {
   "codemirror_mode": {
    "name": "ipython",
    "version": 3
   },
   "file_extension": ".py",
   "mimetype": "text/x-python",
   "name": "python",
   "nbconvert_exporter": "python",
   "pygments_lexer": "ipython3",
   "version": "3.7.6"
  }
 },
 "nbformat": 4,
 "nbformat_minor": 2
}
